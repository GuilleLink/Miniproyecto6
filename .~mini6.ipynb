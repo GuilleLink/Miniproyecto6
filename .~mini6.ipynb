{
 "metadata": {
  "language_info": {
   "codemirror_mode": {
    "name": "ipython",
    "version": 3
   },
   "file_extension": ".py",
   "mimetype": "text/x-python",
   "name": "python",
   "nbconvert_exporter": "python",
   "pygments_lexer": "ipython3",
   "version": "3.7.0-final"
  },
  "orig_nbformat": 2,
  "kernelspec": {
   "name": "Python 3.7.0 64-bit ('mini6')",
   "display_name": "Python 3.7.0 64-bit ('mini6')",
   "metadata": {
    "interpreter": {
     "hash": "821595f3cb2f206e2c1dd72d345397df13af8843582c2890ef54e956b3746bd3"
    }
   }
  }
 },
 "nbformat": 4,
 "nbformat_minor": 2,
 "cells": [
  {
   "source": [
    "# Miniproyecto 6"
   ],
   "cell_type": "markdown",
   "metadata": {}
  },
  {
   "source": [
    "### Javier Carpio - 17077\n",
    "### Guillermo Sandoval - 17577"
   ],
   "cell_type": "markdown",
   "metadata": {}
  },
  {
   "cell_type": "code",
   "execution_count": 132,
   "metadata": {},
   "outputs": [],
   "source": [
    "import numpy as np\n",
    "import itertools\n",
    "import random"
   ]
  },
  {
   "cell_type": "code",
   "execution_count": 133,
   "metadata": {},
   "outputs": [],
   "source": [
    "def NextGeneration(iteraciones, inf, sup, evaluate):\n",
    "    population = []\n",
    "\n",
    "    for i in range(iteraciones):\n",
    "        x1 = np.random.randint(inf, sup + 1)\n",
    "        x2 = np.random.randint(inf, sup + 1)\n",
    "\n",
    "        if evaluate(x1, x2):\n",
    "            population.append((x1, x2))\n",
    "\n",
    "    return population"
   ]
  },
  {
   "cell_type": "code",
   "execution_count": 134,
   "metadata": {},
   "outputs": [],
   "source": [
    "def CalculateFitness(population, f):\n",
    "    fitness = []\n",
    "\n",
    "    for i in population:\n",
    "        fitness.append(f(*i))\n",
    "    return fitness\n"
   ]
  },
  {
   "cell_type": "code",
   "execution_count": 135,
   "metadata": {},
   "outputs": [],
   "source": [
    "def Mutate(parentA, parentB, genSet, mutation_rate, children_number, accept):\n",
    "    children = []\n",
    "    parents = [parentA, parentB]\n",
    "\n",
    "    for i in range(children_number):\n",
    "        child = (parents[np.random.randint(0, 2)][0], parents[np.random.randint(0, 2)][1])\n",
    "\n",
    "        if random.random() < mutation_rate:\n",
    "            child = random.sample(genSet, 2)\n",
    "\n",
    "        if accept(*child):\n",
    "            children.append(child)\n",
    "    return children"
   ]
  },
  {
   "cell_type": "code",
   "execution_count": 136,
   "metadata": {},
   "outputs": [],
   "source": [
    "def AlgoritmoGenetico(iteraciones, mutation_rate, population, f, max_fitness, genSet, children_number, accept):\n",
    "    # print(iteraciones, mutation_rate, population, f, max_fitness, genSet, children_number)\n",
    "    cont = 0\n",
    "    while cont != iteraciones:\n",
    "        fitness_poblacion = CalculateFitness(population, f)\n",
    "        orden_fitness = list.copy(fitness_poblacion)\n",
    "        orden_fitness.sort()\n",
    "\n",
    "        if orden_fitness[-1] > max_fitness:\n",
    "            max_fitness = orden_fitness[-1]\n",
    "        elif orden_fitness[-1] == max_fitness:\n",
    "            cont += 1\n",
    "\n",
    "        parentA = population[fitness_poblacion.index(orden_fitness[-1])]\n",
    "        parentB = population[fitness_poblacion.index(orden_fitness[-2])]\n",
    "\n",
    "        # children = itertools.combinations((parentA, parentB))\n",
    "        population = [parentA, parentB]\n",
    "\n",
    "        children = Mutate(parentA, parentB, genSet, mutation_rate, children_number, accept)\n",
    "        \n",
    "        population = population + children\n",
    "\n",
    "    return population, max_fitness\n",
    "\n"
   ]
  },
  {
   "source": [
    "## Task 1"
   ],
   "cell_type": "markdown",
   "metadata": {}
  },
  {
   "source": [
    "## $$ f(x_1, x_2) = 15x_1 + 30x_2 + 4x_1x_2 - 2x_2^2 - 4x_2^2 $$"
   ],
   "cell_type": "markdown",
   "metadata": {}
  },
  {
   "cell_type": "code",
   "execution_count": null,
   "metadata": {},
   "outputs": [],
   "source": [
    "MUESTRA_GENETICA = 1000\n",
    "ITERACIONES = 10000\n",
    "Inferior = 0\n",
    "Superior = 30\n",
    "MUTATION_RATE = 0.2\n",
    "CHILD_NUMBER = 10\n",
    "\n",
    "GEN_SET = [i for i in range(3)]\n",
    "\n",
    "f = lambda x1,x2: 15*x1 + 30*x2 + 4*x1*x2 - 2*x1**2 - 4*x2**2\n",
    "condition = lambda x1, x2: x1 + 2*x2 <= 30\n",
    "\n",
    "population = NextGeneration(MUESTRA_GENETICA, Inferior, Superior, condition)\n",
    "\n",
    "maxFitness = CalculateFitness(population, f)\n",
    "maxFitness.sort()\n",
    "maximo = maxFitness[-1]\n",
    "\n",
    "popu, fit = AlgoritmoGenetico(ITERACIONES, MUTATION_RATE, population, f, maximo, GEN_SET, CHILD_NUMBER, condition)\n",
    "\n",
    "x1, x2 = popu[0]\n",
    "\n",
    "print(\"Los valores que generan el maximo de la funcion son:\")\n",
    "print(\"f(\",x1,\",\",x2,\") =\", fit)\n",
    "print(\"x1 =\",x1)\n",
    "print(\"x2 =\",x2)\n"
   ]
  },
  {
   "source": [
    "## Task 2"
   ],
   "cell_type": "markdown",
   "metadata": {}
  },
  {
   "source": [
    "## $$ z = 3x_1 + 5x_2 $$"
   ],
   "cell_type": "markdown",
   "metadata": {}
  },
  {
   "cell_type": "code",
   "execution_count": null,
   "metadata": {},
   "outputs": [],
   "source": [
    "MUESTRA_GENETICA = 1000\n",
    "ITERACIONES = 10000\n",
    "Inferior = 0\n",
    "Superior = 6\n",
    "\n",
    "def funcion(x1, x2):\n",
    "    return (3*x1 + 5*x2)\n",
    "\n",
    "def checkCondition(x1, x2):\n",
    "    if 3*x1 + 2*x2 <= 6:\n",
    "        return True\n",
    "    else:\n",
    "        return False\n",
    "\n",
    "population = NextGeneration(MUESTRA_GENETICA, Inferior, Superior, checkCondition)\n",
    "\n",
    "maxFitness = CalculateFitness(population, )\n",
    "\n",
    "valores, resultadoMaximo = algoritmoGenetico(CANTIDAD_ITERACIONES, poblacion, funcionFitness2, condicion2, maxFitness)\n"
   ]
  },
  {
   "cell_type": "code",
   "execution_count": null,
   "metadata": {},
   "outputs": [],
   "source": [
    "a,b = popu[0]\n",
    "\n",
    "print('Valores que maximizan la funcion:')\n",
    "print('x1:' + str(a))\n",
    "print('x2:' + str(b))\n",
    "\n",
    "print('f(' + str(a) + ', ' + str(b) + ') = ' + str(f(a, b)))"
   ]
  },
  {
   "source": [
    "## Task 3"
   ],
   "cell_type": "markdown",
   "metadata": {}
  },
  {
   "source": [
    "$$ f(x_1, x_2) = 5x_1 - x_1^2 + 8x_2 - 2x_2^2 $$"
   ],
   "cell_type": "markdown",
   "metadata": {}
  },
  {
   "cell_type": "code",
   "execution_count": 137,
   "metadata": {},
   "outputs": [],
   "source": [
    "f = lambda x1, x2: 5*x1 - x1**2 + 8*x2 - 2*x2**2\n",
    "condition = lambda x1, x2: 3*x1 + 2*x2 <= 6"
   ]
  },
  {
   "cell_type": "code",
   "execution_count": 151,
   "metadata": {
    "tags": []
   },
   "outputs": [],
   "source": [
    "CANTIDAD_PADRES = 1000\n",
    "ITERACIONES = 10000\n",
    "INFERIOR = 0\n",
    "SUPERIOR = 6\n",
    "MUTATION_RATE = 0.2\n",
    "CHILD_NUMBER = 10\n",
    "\n",
    "GEN_SET = [i for i in range(3)]\n",
    "\n",
    "population = NextGeneration(CANTIDAD_PADRES, INFERIOR, SUPERIOR, condition)\n",
    "fitness = CalculateFitness(population, f)\n",
    "fitness.sort()\n",
    "maximo = fitness[-1]\n",
    "\n",
    "popu, fit = AlgoritmoGenetico(ITERACIONES, MUTATION_RATE, population, f, maximo, GEN_SET, CHILD_NUMBER, condition)"
   ]
  },
  {
   "cell_type": "code",
   "execution_count": 152,
   "metadata": {},
   "outputs": [
    {
     "output_type": "stream",
     "name": "stdout",
     "text": [
      "Valores que maximizan la funcion:\nx_1 = 1\nx_2 = 1\nf(1, 1) = 10\n"
     ]
    }
   ],
   "source": [
    "a, b = popu[0]\n",
    "\n",
    "print('Valores que maximizan la funcion:')\n",
    "print('x_1 =', a)\n",
    "print('x_2 =', b)\n",
    "\n",
    "print('f(' + str(a) + ', ' + str(b) + ') = ' + str(f(a, b)))"
   ]
  }
 ]
}